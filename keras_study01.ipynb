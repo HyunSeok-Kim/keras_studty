{
 "cells": [
  {
   "cell_type": "code",
   "execution_count": 2,
   "metadata": {},
   "outputs": [
    {
     "name": "stdout",
     "output_type": "stream",
     "text": [
      "Downloading data from https://storage.googleapis.com/tensorflow/tf-keras-datasets/reuters.npz\n",
      "2113536/2110848 [==============================] - 0s 0us/step\n"
     ]
    }
   ],
   "source": [
    "from keras.datasets import reuters\n",
    "\n",
    "(train_data, train_labels), (test_data, test_labels) = reuters.load_data(num_words=10000)"
   ]
  },
  {
   "cell_type": "code",
   "execution_count": 18,
   "metadata": {},
   "outputs": [],
   "source": [
    "import numpy as np\n",
    "\n",
    "def vectorize_sequences(sequences, dimension=10000):\n",
    "    results = np.zeros((len(sequences), dimension))\n",
    "    for i, sequence in enumerate(sequences):\n",
    "        results[i, sequence] = 1.\n",
    "    return results\n",
    "\n",
    "x_train = vectorize_sequences(train_data)\n",
    "x_test = vectorize_sequences(test_data)"
   ]
  },
  {
   "cell_type": "code",
   "execution_count": 19,
   "metadata": {},
   "outputs": [
    {
     "data": {
      "text/plain": [
       "3"
      ]
     },
     "execution_count": 19,
     "metadata": {},
     "output_type": "execute_result"
    }
   ],
   "source": [
    "len(train_data)\n",
    "len(test_data)\n",
    "train_labels[10]"
   ]
  },
  {
   "cell_type": "code",
   "execution_count": 20,
   "metadata": {},
   "outputs": [],
   "source": [
    "from keras.utils.np_utils import to_categorical\n",
    "\n",
    "one_hot_train_labels = to_categorical(train_labels)\n",
    "one_hot_test_labels = to_categorical(test_labels)\n"
   ]
  },
  {
   "cell_type": "code",
   "execution_count": 21,
   "metadata": {},
   "outputs": [],
   "source": [
    "from keras import models\n",
    "from keras import layers\n",
    "\n",
    "model = models.Sequential()\n",
    "model.add(layers.Dense(64, activation='relu', input_shape=(10000,)))\n",
    "model.add(layers.Dense(64, activation='relu'))\n",
    "model.add(layers.Dense(46, activation='softmax'))"
   ]
  },
  {
   "cell_type": "code",
   "execution_count": 22,
   "metadata": {},
   "outputs": [],
   "source": [
    "model.compile(optimizer='rmsprop',\n",
    "             loss='categorical_crossentropy',\n",
    "             metrics=['accuracy'])"
   ]
  },
  {
   "cell_type": "code",
   "execution_count": 29,
   "metadata": {},
   "outputs": [],
   "source": [
    "x_val = x_train[:1000]\n",
    "partial_x_train = x_train[1000:]\n",
    "\n",
    "y_val = one_hot_train_labels[:1000]\n",
    "partial_y_train = one_hot_train_labels[1000:]\n"
   ]
  },
  {
   "cell_type": "code",
   "execution_count": 30,
   "metadata": {},
   "outputs": [
    {
     "name": "stdout",
     "output_type": "stream",
     "text": [
      "Epoch 1/20\n",
      "16/16 [==============================] - 0s 20ms/step - loss: 2.6881 - accuracy: 0.5093 - val_loss: 1.7827 - val_accuracy: 0.6460\n",
      "Epoch 2/20\n",
      "16/16 [==============================] - 0s 12ms/step - loss: 1.4251 - accuracy: 0.7107 - val_loss: 1.3013 - val_accuracy: 0.7120\n",
      "Epoch 3/20\n",
      "16/16 [==============================] - 0s 12ms/step - loss: 1.0324 - accuracy: 0.7808 - val_loss: 1.1301 - val_accuracy: 0.7520\n",
      "Epoch 4/20\n",
      "16/16 [==============================] - 0s 11ms/step - loss: 0.8139 - accuracy: 0.8324 - val_loss: 1.0181 - val_accuracy: 0.7790\n",
      "Epoch 5/20\n",
      "16/16 [==============================] - 0s 11ms/step - loss: 0.6501 - accuracy: 0.8648 - val_loss: 0.9726 - val_accuracy: 0.8080\n",
      "Epoch 6/20\n",
      "16/16 [==============================] - 0s 11ms/step - loss: 0.5170 - accuracy: 0.8954 - val_loss: 0.9299 - val_accuracy: 0.8080\n",
      "Epoch 7/20\n",
      "16/16 [==============================] - 0s 12ms/step - loss: 0.4196 - accuracy: 0.9173 - val_loss: 0.9049 - val_accuracy: 0.8070\n",
      "Epoch 8/20\n",
      "16/16 [==============================] - 0s 12ms/step - loss: 0.3430 - accuracy: 0.9302 - val_loss: 0.8925 - val_accuracy: 0.8210\n",
      "Epoch 9/20\n",
      "16/16 [==============================] - 0s 11ms/step - loss: 0.2836 - accuracy: 0.9384 - val_loss: 0.9022 - val_accuracy: 0.8200\n",
      "Epoch 10/20\n",
      "16/16 [==============================] - 0s 12ms/step - loss: 0.2391 - accuracy: 0.9446 - val_loss: 0.9240 - val_accuracy: 0.8160\n",
      "Epoch 11/20\n",
      "16/16 [==============================] - 0s 12ms/step - loss: 0.2061 - accuracy: 0.9496 - val_loss: 0.9461 - val_accuracy: 0.8080\n",
      "Epoch 12/20\n",
      "16/16 [==============================] - 0s 12ms/step - loss: 0.1851 - accuracy: 0.9515 - val_loss: 0.9339 - val_accuracy: 0.8180\n",
      "Epoch 13/20\n",
      "16/16 [==============================] - 0s 11ms/step - loss: 0.1655 - accuracy: 0.9534 - val_loss: 0.9941 - val_accuracy: 0.8020\n",
      "Epoch 14/20\n",
      "16/16 [==============================] - 0s 11ms/step - loss: 0.1497 - accuracy: 0.9550 - val_loss: 0.9662 - val_accuracy: 0.8180\n",
      "Epoch 15/20\n",
      "16/16 [==============================] - 0s 11ms/step - loss: 0.1457 - accuracy: 0.9545 - val_loss: 0.9835 - val_accuracy: 0.8210\n",
      "Epoch 16/20\n",
      "16/16 [==============================] - 0s 12ms/step - loss: 0.1335 - accuracy: 0.9565 - val_loss: 1.0132 - val_accuracy: 0.8080\n",
      "Epoch 17/20\n",
      "16/16 [==============================] - 0s 12ms/step - loss: 0.1240 - accuracy: 0.9569 - val_loss: 1.0681 - val_accuracy: 0.8050\n",
      "Epoch 18/20\n",
      "16/16 [==============================] - 0s 12ms/step - loss: 0.1210 - accuracy: 0.9575 - val_loss: 1.0467 - val_accuracy: 0.8060\n",
      "Epoch 19/20\n",
      "16/16 [==============================] - 0s 11ms/step - loss: 0.1163 - accuracy: 0.9567 - val_loss: 1.0563 - val_accuracy: 0.8040\n",
      "Epoch 20/20\n",
      "16/16 [==============================] - 0s 9ms/step - loss: 0.1106 - accuracy: 0.9587 - val_loss: 1.0849 - val_accuracy: 0.8110\n"
     ]
    }
   ],
   "source": [
    "history = model.fit(partial_x_train, \n",
    "                   partial_y_train,\n",
    "                   epochs=20,\n",
    "                   batch_size=512,\n",
    "                   validation_data=(x_val, y_val))"
   ]
  },
  {
   "cell_type": "code",
   "execution_count": null,
   "metadata": {},
   "outputs": [],
   "source": [
    "import matplotlib.pyplot as plt\n",
    "\n",
    "loss = history.history['loss']\n",
    "val_loss = history.history['val_loss']\n",
    "\n",
    "epochs = range(1, len(loss)+1)\n",
    "\n",
    "plt.plot(epochs, loss, 'bo', label='Training loss')\n",
    "plt.plot(epochs, val_loss, 'b', label='Validation loss')\n",
    "plt.title('Training and validation loss')\n",
    "plt.xlabel('Epochs')\n",
    "plt.ylabel('Loss')"
   ]
  }
 ],
 "metadata": {
  "kernelspec": {
   "display_name": "Python 3",
   "language": "python",
   "name": "python3"
  },
  "language_info": {
   "codemirror_mode": {
    "name": "ipython",
    "version": 3
   },
   "file_extension": ".py",
   "mimetype": "text/x-python",
   "name": "python",
   "nbconvert_exporter": "python",
   "pygments_lexer": "ipython3",
   "version": "3.8.3"
  }
 },
 "nbformat": 4,
 "nbformat_minor": 4
}
