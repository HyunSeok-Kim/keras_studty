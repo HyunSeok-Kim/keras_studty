{
 "cells": [
  {
   "cell_type": "code",
   "execution_count": null,
   "metadata": {
    "scrolled": true
   },
   "outputs": [],
   "source": [
    "import os, shutil\n",
    "\n",
    "original_dataset_dir = './datasets/cats_and_dogs/train'\n",
    "\n",
    "base_dir = './datasets/cats_and_dogs_small'\n",
    "os.mkdir(base_dir)\n",
    "train_dir = os.path.join(base_dir, 'train')\n",
    "os.mkdir(train_dir)\n",
    "validation_dir = os.path.join(base_dir, 'validation')\n",
    "os.mkdir(validation_dir)\n",
    "test_dir = os.path.join(base_dir, 'test')\n",
    "os.mkdir(test_dir)\n",
    "\n",
    "train_cats_dir = os.path.join(train_dir, 'cats')\n",
    "os.mkdir(train_cats_dir)\n",
    "\n",
    "train_dogs_dir = os.path.join(train_dir, 'dogs')\n",
    "os.mkdir(train_dogs_dir)\n",
    "\n",
    "validation_cats_dir = os.path.join(validation_dir, 'cats')\n",
    "os.mkdir(validation_cats_dir)\n",
    "\n",
    "validation_dogs_dir = os.path.join(validation_dir, 'dogs')\n",
    "os.mkdir(validation_dogs_dir)\n",
    "\n",
    "test_cats_dir = os.path.join(test_dir, 'cats')\n",
    "os.mkdir(test_cats_dir)\n",
    "\n",
    "test_dogs_dir = os.path.join(test_dir, 'dogs')\n",
    "os.mkdir(test_dogs_dir)\n",
    "\n",
    "\n",
    "    "
   ]
  },
  {
   "cell_type": "code",
   "execution_count": 2,
   "metadata": {},
   "outputs": [],
   "source": [
    "fnames = ['cat.{}.jpg'.format(i) for i in range(1000)]\n",
    "for fname in fnames:\n",
    "    src = os.path.join(original_dataset_dir, fname)\n",
    "    dst = os.path.join(train_cats_dir, fname)\n",
    "    shutil.copyfile(src, dst)"
   ]
  },
  {
   "cell_type": "code",
   "execution_count": 3,
   "metadata": {},
   "outputs": [],
   "source": [
    "fnames = ['cat.{}.jpg'.format(i) for i in range(1000, 1500)]\n",
    "for fname in fnames:\n",
    "    src = os.path.join(original_dataset_dir, fname)\n",
    "    dst = os.path.join(validation_cats_dir, fname)\n",
    "    shutil.copyfile(src, dst)"
   ]
  },
  {
   "cell_type": "code",
   "execution_count": 4,
   "metadata": {},
   "outputs": [],
   "source": [
    "fnames = ['cat.{}.jpg'.format(i) for i in range(1500, 2000)]\n",
    "for fname in fnames:\n",
    "    src = os.path.join(original_dataset_dir, fname)\n",
    "    dst = os.path.join(test_cats_dir, fname)\n",
    "    shutil.copyfile(src, dst)"
   ]
  },
  {
   "cell_type": "code",
   "execution_count": 5,
   "metadata": {},
   "outputs": [],
   "source": [
    "fnames = ['dog.{}.jpg'.format(i) for i in range(1000)]\n",
    "for fname in fnames:\n",
    "    src = os.path.join(original_dataset_dir, fname)\n",
    "    dst = os.path.join(train_dogs_dir, fname)\n",
    "    shutil.copyfile(src, dst)"
   ]
  },
  {
   "cell_type": "code",
   "execution_count": 6,
   "metadata": {},
   "outputs": [],
   "source": [
    "fnames = ['dog.{}.jpg'.format(i) for i in range(1000, 1500)]\n",
    "for fname in fnames:\n",
    "    src = os.path.join(original_dataset_dir, fname)\n",
    "    dst = os.path.join(validation_dogs_dir, fname)\n",
    "    shutil.copyfile(src, dst)"
   ]
  },
  {
   "cell_type": "code",
   "execution_count": 7,
   "metadata": {},
   "outputs": [],
   "source": [
    "fnames = ['dog.{}.jpg'.format(i) for i in range(1000, 1500)]\n",
    "for fname in fnames:\n",
    "    src = os.path.join(original_dataset_dir, fname)\n",
    "    dst = os.path.join(test_dogs_dir, fname)\n",
    "    shutil.copyfile(src, dst)"
   ]
  },
  {
   "cell_type": "code",
   "execution_count": 8,
   "metadata": {},
   "outputs": [
    {
     "name": "stdout",
     "output_type": "stream",
     "text": [
      "훈렬용 고양이 이미지 전체 개수: 1000\n"
     ]
    }
   ],
   "source": [
    "print('훈렬용 고양이 이미지 전체 개수:', len(os.listdir(train_cats_dir)))"
   ]
  },
  {
   "cell_type": "code",
   "execution_count": 9,
   "metadata": {},
   "outputs": [
    {
     "name": "stdout",
     "output_type": "stream",
     "text": [
      "훈렬용 강아지 이미지 전체 개수: 1000\n"
     ]
    }
   ],
   "source": [
    "print('훈렬용 강아지 이미지 전체 개수:', len(os.listdir(train_dogs_dir)))"
   ]
  },
  {
   "cell_type": "code",
   "execution_count": 10,
   "metadata": {},
   "outputs": [
    {
     "name": "stdout",
     "output_type": "stream",
     "text": [
      "검증용 고양이 이미지 전체 개수: 500\n"
     ]
    }
   ],
   "source": [
    "print('검증용 고양이 이미지 전체 개수:', len(os.listdir(validation_cats_dir)))"
   ]
  },
  {
   "cell_type": "code",
   "execution_count": 11,
   "metadata": {},
   "outputs": [
    {
     "name": "stdout",
     "output_type": "stream",
     "text": [
      "검증용 강아지 이미지 전체 개수: 500\n"
     ]
    }
   ],
   "source": [
    "print('검증용 강아지 이미지 전체 개수:', len(os.listdir(validation_dogs_dir)))"
   ]
  },
  {
   "cell_type": "code",
   "execution_count": 12,
   "metadata": {},
   "outputs": [
    {
     "name": "stdout",
     "output_type": "stream",
     "text": [
      "테스트용 고양이 이미지 전체 개수: 500\n"
     ]
    }
   ],
   "source": [
    "print('테스트용 고양이 이미지 전체 개수:', len(os.listdir(test_cats_dir)))"
   ]
  },
  {
   "cell_type": "code",
   "execution_count": 13,
   "metadata": {},
   "outputs": [
    {
     "name": "stdout",
     "output_type": "stream",
     "text": [
      "테스트용 강아지 이미지 전체 개수: 500\n"
     ]
    }
   ],
   "source": [
    "print('테스트용 강아지 이미지 전체 개수:', len(os.listdir(test_dogs_dir)))"
   ]
  },
  {
   "cell_type": "code",
   "execution_count": 17,
   "metadata": {},
   "outputs": [],
   "source": [
    "from keras import layers\n",
    "from keras import models\n",
    "\n",
    "model = models.Sequential()\n",
    "model.add(layers.Conv2D(32, (3,3), activation='relu', input_shape=(150, 150, 3)))\n",
    "model.add(layers.MaxPooling2D(2,2))\n",
    "model.add(layers.Conv2D(64, (3,3), activation='relu'))\n",
    "model.add(layers.MaxPooling2D(2,2))\n",
    "model.add(layers.Conv2D(128, (3,3), activation='relu'))\n",
    "model.add(layers.MaxPooling2D(2,2))\n",
    "model.add(layers.Conv2D(128, (3,3), activation='relu'))\n",
    "model.add(layers.MaxPooling2D(2,2))\n",
    "model.add(layers.Flatten())\n",
    "model.add(layers.Dense(512, activation='relu'))\n",
    "model.add(layers.Dense(1, activation='sigmoid'))\n"
   ]
  },
  {
   "cell_type": "code",
   "execution_count": 18,
   "metadata": {},
   "outputs": [
    {
     "name": "stdout",
     "output_type": "stream",
     "text": [
      "Model: \"sequential_2\"\n",
      "_________________________________________________________________\n",
      "Layer (type)                 Output Shape              Param #   \n",
      "=================================================================\n",
      "conv2d_6 (Conv2D)            (None, 148, 148, 32)      896       \n",
      "_________________________________________________________________\n",
      "max_pooling2d_6 (MaxPooling2 (None, 74, 74, 32)        0         \n",
      "_________________________________________________________________\n",
      "conv2d_7 (Conv2D)            (None, 72, 72, 64)        18496     \n",
      "_________________________________________________________________\n",
      "max_pooling2d_7 (MaxPooling2 (None, 36, 36, 64)        0         \n",
      "_________________________________________________________________\n",
      "conv2d_8 (Conv2D)            (None, 34, 34, 128)       73856     \n",
      "_________________________________________________________________\n",
      "max_pooling2d_8 (MaxPooling2 (None, 17, 17, 128)       0         \n",
      "_________________________________________________________________\n",
      "conv2d_9 (Conv2D)            (None, 15, 15, 128)       147584    \n",
      "_________________________________________________________________\n",
      "max_pooling2d_9 (MaxPooling2 (None, 7, 7, 128)         0         \n",
      "_________________________________________________________________\n",
      "flatten_1 (Flatten)          (None, 6272)              0         \n",
      "_________________________________________________________________\n",
      "dense_2 (Dense)              (None, 512)               3211776   \n",
      "_________________________________________________________________\n",
      "dense_3 (Dense)              (None, 1)                 513       \n",
      "=================================================================\n",
      "Total params: 3,453,121\n",
      "Trainable params: 3,453,121\n",
      "Non-trainable params: 0\n",
      "_________________________________________________________________\n"
     ]
    }
   ],
   "source": [
    "model.summary()"
   ]
  },
  {
   "cell_type": "code",
   "execution_count": 19,
   "metadata": {},
   "outputs": [],
   "source": [
    "from keras import optimizers\n",
    "\n",
    "model.compile(loss='binary_crossentropy', optimizer=optimizers.RMSprop(lr=1e-4), metrics=['acc'])"
   ]
  },
  {
   "cell_type": "code",
   "execution_count": 20,
   "metadata": {},
   "outputs": [
    {
     "name": "stdout",
     "output_type": "stream",
     "text": [
      "Found 2000 images belonging to 2 classes.\n",
      "Found 1000 images belonging to 2 classes.\n"
     ]
    }
   ],
   "source": [
    "from keras.preprocessing.image import ImageDataGenerator\n",
    "\n",
    "train_datagen = ImageDataGenerator(rescale=1./255)\n",
    "test_datagen = ImageDataGenerator(rescale=1./255)\n",
    "\n",
    "train_generator = train_datagen.flow_from_directory(train_dir, target_size=(150, 150), batch_size=20, class_mode='binary')\n",
    "validation_generator = test_datagen.flow_from_directory(validation_dir, target_size=(150, 150), batch_size=20, class_mode='binary')\n"
   ]
  },
  {
   "cell_type": "code",
   "execution_count": 21,
   "metadata": {},
   "outputs": [
    {
     "name": "stdout",
     "output_type": "stream",
     "text": [
      "batch data size: (20, 150, 150, 3)\n",
      "batch label size: (20,)\n"
     ]
    }
   ],
   "source": [
    "for data_batch, labels_batch in train_generator:\n",
    "    print('batch data size:', data_batch.shape)\n",
    "    print('batch label size:', labels_batch.shape)\n",
    "    break\n",
    "    "
   ]
  },
  {
   "cell_type": "code",
   "execution_count": null,
   "metadata": {},
   "outputs": [
    {
     "name": "stdout",
     "output_type": "stream",
     "text": [
      "Epoch 1/30\n",
      "100/100 [==============================] - 34s 340ms/step - loss: 0.6895 - acc: 0.5325 - val_loss: 0.6725 - val_acc: 0.6090\n",
      "Epoch 2/30\n",
      "100/100 [==============================] - 20s 201ms/step - loss: 0.6528 - acc: 0.6300 - val_loss: 0.6373 - val_acc: 0.6250\n",
      "Epoch 3/30\n",
      "100/100 [==============================] - 20s 202ms/step - loss: 0.5995 - acc: 0.6760 - val_loss: 0.6382 - val_acc: 0.6310\n",
      "Epoch 4/30\n",
      "100/100 [==============================] - 20s 202ms/step - loss: 0.5581 - acc: 0.7195 - val_loss: 0.6375 - val_acc: 0.6320\n",
      "Epoch 5/30\n",
      "100/100 [==============================] - 20s 204ms/step - loss: 0.5261 - acc: 0.7460 - val_loss: 0.5995 - val_acc: 0.6840\n",
      "Epoch 6/30\n",
      "100/100 [==============================] - 20s 203ms/step - loss: 0.4996 - acc: 0.7595 - val_loss: 0.5543 - val_acc: 0.7090\n",
      "Epoch 7/30\n",
      "100/100 [==============================] - 20s 203ms/step - loss: 0.4693 - acc: 0.7870 - val_loss: 0.5995 - val_acc: 0.6760\n",
      "Epoch 8/30\n",
      "100/100 [==============================] - 20s 202ms/step - loss: 0.4374 - acc: 0.7990 - val_loss: 0.5421 - val_acc: 0.7170\n",
      "Epoch 9/30\n",
      "100/100 [==============================] - 20s 200ms/step - loss: 0.4040 - acc: 0.8305 - val_loss: 0.6304 - val_acc: 0.6960\n",
      "Epoch 10/30\n",
      "100/100 [==============================] - 20s 201ms/step - loss: 0.3886 - acc: 0.8290 - val_loss: 0.5392 - val_acc: 0.7460\n",
      "Epoch 11/30\n",
      "100/100 [==============================] - 20s 201ms/step - loss: 0.3746 - acc: 0.8375 - val_loss: 0.5096 - val_acc: 0.7490\n",
      "Epoch 12/30\n",
      "100/100 [==============================] - 20s 201ms/step - loss: 0.3506 - acc: 0.8525 - val_loss: 0.5272 - val_acc: 0.7530\n",
      "Epoch 13/30\n",
      "100/100 [==============================] - 20s 202ms/step - loss: 0.3248 - acc: 0.8655 - val_loss: 0.5375 - val_acc: 0.7440\n",
      "Epoch 14/30\n",
      "100/100 [==============================] - 20s 201ms/step - loss: 0.3071 - acc: 0.8700 - val_loss: 0.5338 - val_acc: 0.7640\n",
      "Epoch 15/30\n",
      "100/100 [==============================] - 20s 201ms/step - loss: 0.2931 - acc: 0.8805 - val_loss: 0.5796 - val_acc: 0.7330\n",
      "Epoch 16/30\n",
      "100/100 [==============================] - 20s 201ms/step - loss: 0.2685 - acc: 0.8930 - val_loss: 0.5602 - val_acc: 0.7530\n",
      "Epoch 17/30\n",
      "100/100 [==============================] - 20s 200ms/step - loss: 0.2453 - acc: 0.8970 - val_loss: 0.6059 - val_acc: 0.7400\n",
      "Epoch 18/30\n",
      "100/100 [==============================] - 20s 201ms/step - loss: 0.2234 - acc: 0.9140 - val_loss: 0.7078 - val_acc: 0.7330\n",
      "Epoch 19/30\n",
      "100/100 [==============================] - 20s 201ms/step - loss: 0.2210 - acc: 0.9100 - val_loss: 0.6054 - val_acc: 0.7470\n",
      "Epoch 20/30\n",
      "100/100 [==============================] - 20s 201ms/step - loss: 0.1978 - acc: 0.9220 - val_loss: 0.6469 - val_acc: 0.7400\n",
      "Epoch 21/30\n",
      "100/100 [==============================] - 20s 201ms/step - loss: 0.1691 - acc: 0.9380 - val_loss: 0.6370 - val_acc: 0.7450\n",
      "Epoch 22/30\n",
      "100/100 [==============================] - 20s 201ms/step - loss: 0.1628 - acc: 0.9435 - val_loss: 0.6481 - val_acc: 0.7520\n",
      "Epoch 23/30\n",
      "100/100 [==============================] - 21s 209ms/step - loss: 0.1442 - acc: 0.9505 - val_loss: 0.6676 - val_acc: 0.7510\n",
      "Epoch 24/30\n",
      "100/100 [==============================] - 21s 212ms/step - loss: 0.1225 - acc: 0.9615 - val_loss: 0.7172 - val_acc: 0.7520\n",
      "Epoch 25/30\n",
      "100/100 [==============================] - 21s 210ms/step - loss: 0.1099 - acc: 0.9630 - val_loss: 0.9433 - val_acc: 0.7280\n",
      "Epoch 26/30\n",
      "100/100 [==============================] - 21s 207ms/step - loss: 0.1041 - acc: 0.9640 - val_loss: 0.8436 - val_acc: 0.7480\n",
      "Epoch 27/30\n",
      "100/100 [==============================] - 20s 204ms/step - loss: 0.0854 - acc: 0.9740 - val_loss: 0.8634 - val_acc: 0.7300\n",
      "Epoch 28/30\n",
      "100/100 [==============================] - 20s 205ms/step - loss: 0.0689 - acc: 0.9830 - val_loss: 0.8121 - val_acc: 0.7500\n",
      "Epoch 29/30\n",
      "100/100 [==============================] - 20s 203ms/step - loss: 0.0635 - acc: 0.9810 - val_loss: 0.8597 - val_acc: 0.7370\n",
      "Epoch 30/30\n",
      " 28/100 [=======>......................] - ETA: 12s - loss: 0.0469 - acc: 0.9875"
     ]
    }
   ],
   "source": [
    "history = model.fit_generator(train_generator, steps_per_epoch=100, epochs=30, validation_data=validation_generator, validation_steps=50)"
   ]
  },
  {
   "cell_type": "code",
   "execution_count": null,
   "metadata": {},
   "outputs": [],
   "source": [
    "model.save('cats_and_dogs_amall_1.h5')"
   ]
  },
  {
   "cell_type": "code",
   "execution_count": null,
   "metadata": {},
   "outputs": [],
   "source": [
    "import matplotlib.pyplot as plt\n",
    "\n",
    "acc = history.history['acc']\n",
    "val_acc = history.history['val_acc']\n",
    "loss = history.history['loss']\n",
    "val_loss = history.history['val_loss']\n",
    "\n",
    "epochs = range(1, len(acc)+1)\n",
    "\n",
    "plt.plot(epochs, acc, 'bo', label='Training acc')\n",
    "plt.plot(epochs, val_acc, 'b', label='Validation acc')\n",
    "plt.title('Training and validation accuracy')\n",
    "plt.legend()\n",
    "\n",
    "plt.figure()\n",
    "\n",
    "plt.plot(epochs, loss, 'bo', label='Training loss')\n",
    "plt.plot(epochs, val_loss, 'b', label='Validation loss')\n",
    "plt.title('Training and validation loss')\n",
    "plt.legend()\n",
    "\n",
    "plt.show()"
   ]
  }
 ],
 "metadata": {
  "kernelspec": {
   "display_name": "Python 3",
   "language": "python",
   "name": "python3"
  },
  "language_info": {
   "codemirror_mode": {
    "name": "ipython",
    "version": 3
   },
   "file_extension": ".py",
   "mimetype": "text/x-python",
   "name": "python",
   "nbconvert_exporter": "python",
   "pygments_lexer": "ipython3",
   "version": "3.8.3"
  }
 },
 "nbformat": 4,
 "nbformat_minor": 4
}
